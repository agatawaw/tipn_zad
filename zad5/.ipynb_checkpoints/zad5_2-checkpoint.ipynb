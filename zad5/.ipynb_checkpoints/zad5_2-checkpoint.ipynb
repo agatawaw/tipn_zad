{
 "cells": [
  {
   "cell_type": "code",
   "execution_count": 14,
   "metadata": {},
   "outputs": [
    {
     "name": "stdin",
     "output_type": "stream",
     "text": [
      "Podaj liczbę: 3546\n"
     ]
    },
    {
     "name": "stdout",
     "output_type": "stream",
     "text": [
      "Suma cyfr wynosi: 4\n"
     ]
    }
   ],
   "source": [
    "liczba = input('Podaj liczbę:')\n",
    "liczba = str(liczba)\n",
    "\n",
    "suma_cyfr = 0\n",
    "for i in liczba: \n",
    "    suma_cyfr += 1\n",
    "print('Suma cyfr wynosi:', suma_cyfr)\n"
   ]
  }
 ],
 "metadata": {
  "kernelspec": {
   "display_name": "Python 3",
   "language": "python",
   "name": "python3"
  },
  "language_info": {
   "codemirror_mode": {
    "name": "ipython",
    "version": 3
   },
   "file_extension": ".py",
   "mimetype": "text/x-python",
   "name": "python",
   "nbconvert_exporter": "python",
   "pygments_lexer": "ipython3",
   "version": "3.7.0"
  }
 },
 "nbformat": 4,
 "nbformat_minor": 2
}
