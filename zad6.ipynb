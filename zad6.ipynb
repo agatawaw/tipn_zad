{
 "cells": [
  {
   "cell_type": "code",
   "execution_count": 1,
   "metadata": {},
   "outputs": [],
   "source": [
    "q = 'Muzyka alternatywna jest mega! Może być spokojna, jak i żywa. Znajdzie się coś na każdy rodzaj humorków.'\n",
    "w = 'Ambienty są super. Wsłuchując się w muzykę tego gatunku, można poczuć się jak zahipnotyzowanym.'\n",
    "e = 'Oprócz tego, że jazz świetnie brzmi, jest bardzo kreatywny i ciekawy. Niestety, nie zawsze mam ochotę na słuchanie tego gatunku.'\n",
    "r = 'Prosta muzyka popularna puszczana w radiach jest zazwyczaj na niskim poziomie.'\n",
    "t = 'Rap raczej do mnie nie przemawia.'\n",
    "y = 'Myśląc o disco polo, serce mnie ściska z zażenowania.'"
   ]
  },
  {
   "cell_type": "code",
   "execution_count": 2,
   "metadata": {},
   "outputs": [],
   "source": [
    "pytania = [q, w, e, r, t, y]"
   ]
  },
  {
   "cell_type": "code",
   "execution_count": 3,
   "metadata": {},
   "outputs": [],
   "source": [
    "def test(x):\n",
    "    pytania\n",
    "\n",
    "def pytanie(q):\n",
    "    \n",
    "    print(q)\n",
    "    skala = input(\"Skala od 1 do 5, gdzie 1 oznacza zupełnie się nie zgadzam, a 5 oznacza całkowicie się zgadzam:\")\n",
    "    skala = int(skala)\n",
    "    if skala<1 or skala>5:\n",
    "        print('Podana cyfra jest błędna. Spróbuj ponownie.')\n",
    "    else:\n",
    "        return skala"
   ]
  },
  {
   "cell_type": "code",
   "execution_count": 4,
   "metadata": {},
   "outputs": [],
   "source": [
    "suma = []"
   ]
  },
  {
   "cell_type": "code",
   "execution_count": 5,
   "metadata": {},
   "outputs": [
    {
     "name": "stdout",
     "output_type": "stream",
     "text": [
      "Muzyka alternatywna jest mega! Może być spokojna, jak i żywa. Znajdzie się coś na każdy rodzaj humorków.\n"
     ]
    },
    {
     "name": "stdin",
     "output_type": "stream",
     "text": [
      "Skala od 1 do 5, gdzie 1 oznacza zupełnie się nie zgadzam, a 5 oznacza całkowicie się zgadzam: 5\n"
     ]
    },
    {
     "name": "stdout",
     "output_type": "stream",
     "text": [
      "Ambienty są super. Wsłuchując się w muzykę tego gatunku, można poczuć się jak zahipnotyzowanym.\n"
     ]
    },
    {
     "name": "stdin",
     "output_type": "stream",
     "text": [
      "Skala od 1 do 5, gdzie 1 oznacza zupełnie się nie zgadzam, a 5 oznacza całkowicie się zgadzam: 3\n"
     ]
    },
    {
     "name": "stdout",
     "output_type": "stream",
     "text": [
      "Oprócz tego, że jazz świetnie brzmi, jest bardzo kreatywny i ciekawy. Niestety, nie zawsze mam ochotę na słuchanie tego gatunku.\n"
     ]
    },
    {
     "name": "stdin",
     "output_type": "stream",
     "text": [
      "Skala od 1 do 5, gdzie 1 oznacza zupełnie się nie zgadzam, a 5 oznacza całkowicie się zgadzam: 4\n"
     ]
    },
    {
     "name": "stdout",
     "output_type": "stream",
     "text": [
      "Prosta muzyka popularna puszczana w radiach jest zazwyczaj na niskim poziomie.\n"
     ]
    },
    {
     "name": "stdin",
     "output_type": "stream",
     "text": [
      "Skala od 1 do 5, gdzie 1 oznacza zupełnie się nie zgadzam, a 5 oznacza całkowicie się zgadzam: 3\n"
     ]
    },
    {
     "name": "stdout",
     "output_type": "stream",
     "text": [
      "Rap raczej do mnie nie przemawia.\n"
     ]
    },
    {
     "name": "stdin",
     "output_type": "stream",
     "text": [
      "Skala od 1 do 5, gdzie 1 oznacza zupełnie się nie zgadzam, a 5 oznacza całkowicie się zgadzam: 2\n"
     ]
    },
    {
     "name": "stdout",
     "output_type": "stream",
     "text": [
      "Myśląc o disco polo, serce mnie ściska z zażenowania.\n"
     ]
    },
    {
     "name": "stdin",
     "output_type": "stream",
     "text": [
      "Skala od 1 do 5, gdzie 1 oznacza zupełnie się nie zgadzam, a 5 oznacza całkowicie się zgadzam: 5\n"
     ]
    },
    {
     "name": "stdout",
     "output_type": "stream",
     "text": [
      "Wynik: 22 . Podoba mi się twój gust!\n"
     ]
    }
   ],
   "source": [
    "p = pytanie(q)\n",
    "suma.append(p)\n",
    "p = pytanie(w)\n",
    "suma.append(p)\n",
    "p = pytanie(e)\n",
    "suma.append(p)\n",
    "p = pytanie(r)\n",
    "suma.append(p)\n",
    "p = pytanie(t)\n",
    "suma.append(p)\n",
    "p = pytanie(y)\n",
    "suma.append(p)\n",
    "\n",
    "wynik = sum(suma)\n",
    "wynik = int(wynik)\n",
    "if wynik >= 6 and wynik <= 9:\n",
    "    print('Wynik:', wynik, '. Twój gust muzyczny jest na tak słabym poziomie, że krety kopiące w ziemii na pewno gdzieś go tam znalazły.')\n",
    "elif wynik > 9 and wynik <= 17:\n",
    "    print('Wynik:', wynik, '. Meh, raczej się nie dogadamy w kwestii upodobań muzycznych.')\n",
    "elif wynik > 17 and wynik <= 21:\n",
    "    print('Wynik:', wynik, '. Twój gust muzyczny jest całkiem spoczko.')\n",
    "elif wynik > 21 and wynik <= 26:\n",
    "    print('Wynik:', wynik, '. Podoba mi się twój gust!')\n",
    "elif wynik > 26 and wynik <= 30:\n",
    "    print('Wynik:', wynik, '. Super! Koniecznie musimy iść razem na koncert!')\n"
   ]
  },
  {
   "cell_type": "code",
   "execution_count": null,
   "metadata": {},
   "outputs": [],
   "source": []
  }
 ],
 "metadata": {
  "kernelspec": {
   "display_name": "Python 3",
   "language": "python",
   "name": "python3"
  },
  "language_info": {
   "codemirror_mode": {
    "name": "ipython",
    "version": 3
   },
   "file_extension": ".py",
   "mimetype": "text/x-python",
   "name": "python",
   "nbconvert_exporter": "python",
   "pygments_lexer": "ipython3",
   "version": "3.7.0"
  }
 },
 "nbformat": 4,
 "nbformat_minor": 2
}
